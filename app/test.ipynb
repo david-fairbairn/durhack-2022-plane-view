{
 "cells": [
  {
   "cell_type": "code",
   "execution_count": 9,
   "metadata": {},
   "outputs": [
    {
     "data": {
      "text/html": [
       "<p>To authorize access needed by Earth Engine, open the following\n",
       "        URL in a web browser and follow the instructions:</p>\n",
       "        <p><a href=https://code.earthengine.google.com/client-auth?scopes=https%3A//www.googleapis.com/auth/earthengine%20https%3A//www.googleapis.com/auth/devstorage.full_control&request_id=hc5UrwlTkiquPep3XVsl5nhLZ55nfsbE1YgQci11Sk0&tc=656PBdRRq0HvK7WEeSMjNYpRjxMIGMU9JYtyjnkgJjY&cc=BcTZtLP-iIGur2wETm1f6NVjyNy6S6yzs7rYAkHvRe0>https://code.earthengine.google.com/client-auth?scopes=https%3A//www.googleapis.com/auth/earthengine%20https%3A//www.googleapis.com/auth/devstorage.full_control&request_id=hc5UrwlTkiquPep3XVsl5nhLZ55nfsbE1YgQci11Sk0&tc=656PBdRRq0HvK7WEeSMjNYpRjxMIGMU9JYtyjnkgJjY&cc=BcTZtLP-iIGur2wETm1f6NVjyNy6S6yzs7rYAkHvRe0</a></p>\n",
       "        <p>The authorization workflow will generate a code, which you should paste in the box below.</p>\n",
       "        "
      ],
      "text/plain": [
       "<IPython.core.display.HTML object>"
      ]
     },
     "metadata": {},
     "output_type": "display_data"
    },
    {
     "name": "stdout",
     "output_type": "stream",
     "text": [
      "\n",
      "Successfully saved authorization token.\n"
     ]
    }
   ],
   "source": [
    "import ee\n",
    "import private\n",
    "ee.Authenticate()\n",
    "\n",
    "# Initialize the library.\n",
    "ee.Initialize()"
   ]
  }
 ],
 "metadata": {
  "kernelspec": {
   "display_name": "Python 3.9.13 ('.env': venv)",
   "language": "python",
   "name": "python3"
  },
  "language_info": {
   "codemirror_mode": {
    "name": "ipython",
    "version": 3
   },
   "file_extension": ".py",
   "mimetype": "text/x-python",
   "name": "python",
   "nbconvert_exporter": "python",
   "pygments_lexer": "ipython3",
   "version": "3.9.13"
  },
  "orig_nbformat": 4,
  "vscode": {
   "interpreter": {
    "hash": "3e8473505e5b894cbbe259a253edcf78fd14fd0ae8fdd6cb1ad9cdbf0b743a47"
   }
  }
 },
 "nbformat": 4,
 "nbformat_minor": 2
}
