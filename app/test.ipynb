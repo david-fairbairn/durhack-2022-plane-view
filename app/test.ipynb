{
 "cells": [
  {
   "cell_type": "code",
   "execution_count": null,
   "metadata": {},
   "outputs": [],
   "source": [
    "import ee\n",
    "ee.Authenticate(auth_mode='gcloud')\n",
    "\n",
    "# Initialize the library.\n",
    "ee.Initialize()"
   ]
  }
 ],
 "metadata": {
  "kernelspec": {
   "display_name": "Python 3.9.13 ('.env': venv)",
   "language": "python",
   "name": "python3"
  },
  "language_info": {
   "name": "python",
   "version": "3.9.13"
  },
  "orig_nbformat": 4,
  "vscode": {
   "interpreter": {
    "hash": "3e8473505e5b894cbbe259a253edcf78fd14fd0ae8fdd6cb1ad9cdbf0b743a47"
   }
  }
 },
 "nbformat": 4,
 "nbformat_minor": 2
}
